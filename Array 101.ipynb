{
 "cells": [
  {
   "cell_type": "markdown",
   "id": "874cd959",
   "metadata": {},
   "source": [
    "# Array 101\n",
    "* An Array is a collection of items. \n",
    "* The items are stored in neighboring (contiguous) memory locations"
   ]
  },
  {
   "cell_type": "markdown",
   "id": "aedbe91d",
   "metadata": {},
   "source": [
    "## Accessing Elements in Arrays\n",
    "* The two most primitive Array operations are writing elements into them, and reading elements from them. All other Array operations are built on top of these two primitive operations.\n",
    "\n",
    "### Writing Items into an Array\n",
    "### Reading Items from an Array\n",
    "* In C, the array slot could contain completely random data. \n",
    "* In Java, it initializes empty Array slots to null if the Array contains objects, or to default values if it contains primitive types. E.g. ```int[]``` would contain default values of 0.\n",
    "\n",
    "### Writing Items into an Array with a Loop\n",
    "### Reading Items from an Array with a Loop\n"
   ]
  },
  {
   "cell_type": "markdown",
   "id": "97db41b1",
   "metadata": {},
   "source": [
    "## Array Capacity VS Length\n",
    "* The array capacity must be decided when the Array is created. The capacity cannot be changed later.\n",
    "\n",
    "### Handling Array Parameters\n"
   ]
  }
 ],
 "metadata": {
  "kernelspec": {
   "display_name": "Python 3",
   "language": "python",
   "name": "python3"
  },
  "language_info": {
   "codemirror_mode": {
    "name": "ipython",
    "version": 3
   },
   "file_extension": ".py",
   "mimetype": "text/x-python",
   "name": "python",
   "nbconvert_exporter": "python",
   "pygments_lexer": "ipython3",
   "version": "3.8.3"
  }
 },
 "nbformat": 4,
 "nbformat_minor": 5
}
